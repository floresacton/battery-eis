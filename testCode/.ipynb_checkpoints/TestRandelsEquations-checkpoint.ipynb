{
 "cells": [
  {
   "cell_type": "code",
   "execution_count": 16,
   "id": "a8f66c89",
   "metadata": {},
   "outputs": [],
   "source": [
    "import numpy as np"
   ]
  },
  {
   "cell_type": "code",
   "execution_count": 19,
   "id": "12f7d827",
   "metadata": {},
   "outputs": [
    {
     "name": "stdout",
     "output_type": "stream",
     "text": [
      "15.416198487095663\n",
      "0.583801512904337\n",
      "0.583801512904337\n"
     ]
    }
   ],
   "source": [
    "Vi = 10\n",
    "r1 = 1\n",
    "r2 = 1\n",
    "c = 999999\n",
    "\n",
    "P = 9\n",
    "Q = 0\n",
    "\n",
    "Vo = (Vi - Q/c + np.sqrt((Q/c - Vi)**2 - 4*P*r1)) / 2\n",
    "\n",
    "Ic = Vi/r1 + (Q/c + Vo)*(-1/r1 - 1/r2) + r1/r2 * P / (Vi - (Q/c + Vo))\n",
    "\n",
    "dQ = Ic * 1\n",
    "\n",
    "print(Vo)\n",
    "print(Ic)\n",
    "print(dQ)\n"
   ]
  },
  {
   "cell_type": "code",
   "execution_count": null,
   "id": "62e2f408",
   "metadata": {},
   "outputs": [],
   "source": []
  }
 ],
 "metadata": {
  "kernelspec": {
   "display_name": "Python 3 (ipykernel)",
   "language": "python",
   "name": "python3"
  },
  "language_info": {
   "codemirror_mode": {
    "name": "ipython",
    "version": 3
   },
   "file_extension": ".py",
   "mimetype": "text/x-python",
   "name": "python",
   "nbconvert_exporter": "python",
   "pygments_lexer": "ipython3",
   "version": "3.9.7"
  }
 },
 "nbformat": 4,
 "nbformat_minor": 5
}
